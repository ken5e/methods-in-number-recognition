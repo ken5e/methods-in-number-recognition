{
  "nbformat": 4,
  "nbformat_minor": 0,
  "metadata": {
    "colab": {
      "name": "CNNForNumberRecognition.ipynb",
      "provenance": []
    },
    "kernelspec": {
      "name": "python3",
      "display_name": "Python 3"
    },
    "accelerator": "GPU"
  },
  "cells": [
    {
      "cell_type": "markdown",
      "metadata": {
        "id": "7LoIh3t0mFlz"
      },
      "source": [
        "# **Importing modules**"
      ]
    },
    {
      "cell_type": "code",
      "metadata": {
        "id": "nPL_mFSt3Ri7"
      },
      "source": [
        "# Import Tensorflow 2.0\n",
        "import tensorflow as tf \n",
        "from tensorflow.keras.datasets import mnist\n",
        "from tensorflow.keras import layers, models\n"
      ],
      "execution_count": 2,
      "outputs": []
    },
    {
      "cell_type": "code",
      "metadata": {
        "id": "1DWq1lrJ_zsW"
      },
      "source": [
        "#%matplotlib inline\n",
        "import matplotlib.pyplot as plt\n",
        "import matplotlib.image as mpimg"
      ],
      "execution_count": 3,
      "outputs": []
    },
    {
      "cell_type": "code",
      "metadata": {
        "id": "5ekhxyERmMDq"
      },
      "source": [
        "Split the data and scale them by dividing 255\n",
        "Also add an extra dimension for inputing into the Convolution layer  "
      ],
      "execution_count": null,
      "outputs": []
    },
    {
      "cell_type": "code",
      "metadata": {
        "id": "kbUKDaYQ41Og",
        "outputId": "2887b177-e4d0-4fae-c222-1dc35f04371e",
        "colab": {
          "base_uri": "https://localhost:8080/"
        }
      },
      "source": [
        "(X_train, Y_train), (X_test, Y_test) = mnist.load_data() #Y : name of the number ; X : picture of that number in 28x28\n",
        "X_train = X_train/255.0\n",
        "X_test = X_test/255.0\n",
        "X_train = tf.expand_dims(X_train, -1)\n",
        "X_test = tf.expand_dims(X_test, -1)\n",
        "print(tf.shape(X_train))"
      ],
      "execution_count": 4,
      "outputs": [
        {
          "output_type": "stream",
          "text": [
            "Downloading data from https://storage.googleapis.com/tensorflow/tf-keras-datasets/mnist.npz\n",
            "11493376/11490434 [==============================] - 0s 0us/step\n",
            "tf.Tensor([60000    28    28     1], shape=(4,), dtype=int32)\n"
          ],
          "name": "stdout"
        }
      ]
    },
    {
      "cell_type": "markdown",
      "metadata": {
        "id": "GqLHhTNumzuz"
      },
      "source": [
        "# **Structure of the neural network**"
      ]
    },
    {
      "cell_type": "code",
      "metadata": {
        "id": "rljspY3k2-oM",
        "outputId": "e141f1b6-1682-4a3d-c884-7fd09402df27",
        "colab": {
          "base_uri": "https://localhost:8080/"
        }
      },
      "source": [
        "model = models.Sequential()\n",
        "model.add(layers.Conv2D(32, (4, 4), strides = 1, activation='relu', input_shape=(28, 28,1)))\n",
        "model.add(layers.MaxPooling2D((2, 2)))\n",
        "model.add(layers.Conv2D(64, (3, 3), activation='relu'))\n",
        "model.add(layers.MaxPooling2D((2, 2)))\n",
        "#model.add(layers.Conv2D(64, (3, 3), activation='relu'))\n",
        "model.add(layers.Flatten())\n",
        "model.add(layers.Dense(64, activation='relu'))\n",
        "model.add(layers.Dense(10))\n",
        "model.summary()"
      ],
      "execution_count": 6,
      "outputs": [
        {
          "output_type": "stream",
          "text": [
            "Model: \"sequential\"\n",
            "_________________________________________________________________\n",
            "Layer (type)                 Output Shape              Param #   \n",
            "=================================================================\n",
            "conv2d (Conv2D)              (None, 25, 25, 32)        544       \n",
            "_________________________________________________________________\n",
            "max_pooling2d (MaxPooling2D) (None, 12, 12, 32)        0         \n",
            "_________________________________________________________________\n",
            "conv2d_1 (Conv2D)            (None, 10, 10, 64)        18496     \n",
            "_________________________________________________________________\n",
            "max_pooling2d_1 (MaxPooling2 (None, 5, 5, 64)          0         \n",
            "_________________________________________________________________\n",
            "flatten (Flatten)            (None, 1600)              0         \n",
            "_________________________________________________________________\n",
            "dense (Dense)                (None, 64)                102464    \n",
            "_________________________________________________________________\n",
            "dense_1 (Dense)              (None, 10)                650       \n",
            "=================================================================\n",
            "Total params: 122,154\n",
            "Trainable params: 122,154\n",
            "Non-trainable params: 0\n",
            "_________________________________________________________________\n"
          ],
          "name": "stdout"
        }
      ]
    },
    {
      "cell_type": "markdown",
      "metadata": {
        "id": "4VBtoVtEdgPt"
      },
      "source": [
        "# **Train the model manually**"
      ]
    },
    {
      "cell_type": "code",
      "metadata": {
        "id": "SRtHbVlWQSPg",
        "outputId": "3dc12d38-163f-41e8-b0ea-cc48922a94fd",
        "colab": {
          "base_uri": "https://localhost:8080/"
        }
      },
      "source": [
        "from tqdm import tqdm\n",
        "\n",
        "batch_size = 12\n",
        "optimizer = tf.keras.optimizers.SGD(learning_rate=1e-2)\n",
        "for epoch in range(1):\n",
        "  print(f'\\n{epoch+1}')\n",
        "\n",
        "  for idx in tqdm(range(0, X_train.shape[0], batch_size)):\n",
        "  # First grab a batch of training data and convert the input images to tensors\n",
        "    (images, labels) = (X_train[idx:idx+batch_size], Y_train[idx:idx+batch_size])\n",
        "  #images = tf.convert_to_tensor(images, dtype=tf.float32)\n",
        "\n",
        "  # GradientTape to record differentiation operations\n",
        "    with tf.GradientTape() as tape:\n",
        "      logits = model(images)\n",
        "      loss_value = tf.keras.backend.sparse_categorical_crossentropy(labels, logits, from_logits=True)\n",
        "\n",
        "  # Backpropagation\n",
        "    grads = tape.gradient(loss_value, model.trainable_variables)\n",
        "    optimizer.apply_gradients(zip(grads, model.trainable_variables))"
      ],
      "execution_count": 21,
      "outputs": [
        {
          "output_type": "stream",
          "text": [
            "  0%|          | 19/5000 [00:00<00:26, 184.74it/s]"
          ],
          "name": "stderr"
        },
        {
          "output_type": "stream",
          "text": [
            "\n",
            "1\n"
          ],
          "name": "stdout"
        },
        {
          "output_type": "stream",
          "text": [
            "100%|██████████| 5000/5000 [00:24<00:00, 201.02it/s]\n"
          ],
          "name": "stderr"
        }
      ]
    },
    {
      "cell_type": "markdown",
      "metadata": {
        "id": "SqQF3PC1m5dm"
      },
      "source": [
        "# **Train the model with 'fit'**"
      ]
    },
    {
      "cell_type": "code",
      "metadata": {
        "id": "22B16_nJmiEf",
        "outputId": "bc6d7ced-8a4d-4798-9a13-50172af2bdc9",
        "colab": {
          "base_uri": "https://localhost:8080/"
        }
      },
      "source": [
        "model.compile(optimizer='adam',\n",
        "              loss=tf.keras.losses.SparseCategoricalCrossentropy(from_logits=True),\n",
        "              metrics=['accuracy'])\n",
        "\n",
        "history = model.fit(X_train, Y_train, epochs=10, \n",
        "                    validation_data=(X_test, Y_test))"
      ],
      "execution_count": 7,
      "outputs": [
        {
          "output_type": "stream",
          "text": [
            "Epoch 1/10\n",
            "1875/1875 [==============================] - 6s 3ms/step - loss: 0.1341 - accuracy: 0.9591 - val_loss: 0.0483 - val_accuracy: 0.9858\n",
            "Epoch 2/10\n",
            "1875/1875 [==============================] - 6s 3ms/step - loss: 0.0452 - accuracy: 0.9861 - val_loss: 0.0291 - val_accuracy: 0.9909\n",
            "Epoch 3/10\n",
            "1875/1875 [==============================] - 6s 3ms/step - loss: 0.0321 - accuracy: 0.9898 - val_loss: 0.0311 - val_accuracy: 0.9900\n",
            "Epoch 4/10\n",
            "1875/1875 [==============================] - 6s 3ms/step - loss: 0.0242 - accuracy: 0.9920 - val_loss: 0.0295 - val_accuracy: 0.9907\n",
            "Epoch 5/10\n",
            "1875/1875 [==============================] - 6s 3ms/step - loss: 0.0191 - accuracy: 0.9938 - val_loss: 0.0312 - val_accuracy: 0.9899\n",
            "Epoch 6/10\n",
            "1875/1875 [==============================] - 6s 3ms/step - loss: 0.0155 - accuracy: 0.9948 - val_loss: 0.0269 - val_accuracy: 0.9912\n",
            "Epoch 7/10\n",
            "1875/1875 [==============================] - 6s 3ms/step - loss: 0.0109 - accuracy: 0.9963 - val_loss: 0.0257 - val_accuracy: 0.9916\n",
            "Epoch 8/10\n",
            "1875/1875 [==============================] - 6s 3ms/step - loss: 0.0105 - accuracy: 0.9964 - val_loss: 0.0360 - val_accuracy: 0.9894\n",
            "Epoch 9/10\n",
            "1875/1875 [==============================] - 6s 3ms/step - loss: 0.0080 - accuracy: 0.9973 - val_loss: 0.0255 - val_accuracy: 0.9931\n",
            "Epoch 10/10\n",
            "1875/1875 [==============================] - 7s 4ms/step - loss: 0.0085 - accuracy: 0.9971 - val_loss: 0.0343 - val_accuracy: 0.9915\n"
          ],
          "name": "stdout"
        }
      ]
    },
    {
      "cell_type": "markdown",
      "metadata": {
        "id": "W-vI_57em_tk"
      },
      "source": [
        "# **Make a prediction using the testing data**"
      ]
    },
    {
      "cell_type": "code",
      "metadata": {
        "id": "q2QOx61wquH8",
        "outputId": "ff7d9dab-0742-49db-f5c5-9b2307d9a71e",
        "colab": {
          "base_uri": "https://localhost:8080/",
          "height": 282
        }
      },
      "source": [
        "  import numpy as np\n",
        "  data = tf.expand_dims(X_test[12], 0)\n",
        "  prediction = model.predict(data)\n",
        "\n",
        "  if np.argmax(prediction[0]) == Y_test[12]:\n",
        "    no = str(Y_test[12])\n",
        "    img = tf.squeeze(X_test[12], [2])\n",
        "    imgplot = plt.imshow(img)\n",
        "    print(f'prediction:{no}')\n",
        "  else:\n",
        "    print('cannot do')\n",
        "    print(f'{np.argmax(prediction[0])}')\n",
        "    img = tf.squeeze(X_test[12], [2])\n",
        "    imgplot = plt.imshow(img)\n",
        "  \n"
      ],
      "execution_count": 20,
      "outputs": [
        {
          "output_type": "stream",
          "text": [
            "prediction:9\n"
          ],
          "name": "stdout"
        },
        {
          "output_type": "display_data",
          "data": {
            "image/png": "[encoded data removed]",
            "text/plain": [
              "<Figure size 432x288 with 1 Axes>"
            ]
          },
          "metadata": {
            "tags": [],
            "needs_background": "light"
          }
        }
      ]
    }
  ]
}