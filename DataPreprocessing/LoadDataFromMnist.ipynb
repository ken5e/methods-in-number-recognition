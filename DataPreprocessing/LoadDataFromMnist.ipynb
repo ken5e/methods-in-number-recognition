{
  "nbformat": 4,
  "nbformat_minor": 0,
  "metadata": {
    "colab": {
      "name": "LoadDataFromMnist.ipynb",
      "provenance": []
    },
    "kernelspec": {
      "name": "python3",
      "display_name": "Python 3"
    },
    "accelerator": "GPU"
  },
  "cells": [
    {
      "cell_type": "code",
      "metadata": {
        "id": "nPL_mFSt3Ri7"
      },
      "source": [
        "# Import Tensorflow 2.0\n",
        "import tensorflow as tf \n",
        "from tensorflow.keras.datasets import mnist\n",
        "(X_train, Y_train), (X_test, Y_test) = mnist.load_data() #Y : name of the number ; X : picture of that number in 28x28"
      ],
      "execution_count": null,
      "outputs": []
    },
    {
      "cell_type": "code",
      "metadata": {
        "id": "1DWq1lrJ_zsW"
      },
      "source": [
        "#%matplotlib inline\n",
        "import matplotlib.pyplot as plt\n",
        "import matplotlib.image as mpimg\n",
        "img = X_train[0]\n",
        "print(img.shape) # the size of the img is 28 * 28 pixels\n",
        "imgplot = plt.imshow(img) #show the corresponding image\n",
        "print(Y_train[0]) #print the number"
      ],
      "execution_count": null,
      "outputs": []
    }
  ]
}